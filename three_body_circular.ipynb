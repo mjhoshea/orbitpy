{
 "cells": [
  {
   "cell_type": "code",
   "execution_count": 32,
   "metadata": {},
   "outputs": [],
   "source": [
    "from Particle import Particle\n",
    "from Vector import Vector\n",
    "from newton_utils import kinetic_energy, potential_energy, grav_force\n",
    "\n",
    "from typing import List"
   ]
  },
  {
   "cell_type": "code",
   "execution_count": 33,
   "metadata": {
    "pycharm": {
     "is_executing": false
    }
   },
   "outputs": [],
   "source": [
    "planets  = ['Sun', 'Mercury', 'Venus']\n",
    "mass = [1, 1.652E-7, 2.447E-6]\n",
    "position = [(0, 0 , 0), (0.387, 0, 0), (0.723, 0, 0)]\n",
    "velocity = [(0, -1.973E-5, 0), (0, 10.09, 0), (0, 7.38, 0)]"
   ]
  },
  {
   "cell_type": "code",
   "execution_count": 34,
   "metadata": {},
   "outputs": [],
   "source": [
    "solar_system = []\n",
    "count = 0\n",
    "for planet in planets:\n",
    "    x, y, z =  position[count]\n",
    "    v_x, v_y, v_z = velocity[count]\n",
    "    planet = Particle(mass[count], Vector(x, y, z), Vector(v_x, v_y, v_z), planet)\n",
    "    solar_system.append(planet)\n",
    "    count+=1"
   ]
  },
  {
   "cell_type": "code",
   "execution_count": 35,
   "metadata": {},
   "outputs": [],
   "source": [
    "Forces = List[Vector]\n",
    "Particles = List[Particle]\n",
    "def leapPositions(particles: Particles, forces: Forces , dt):\n",
    "    acceleration = Vector()\n",
    "    count = 0\n",
    "    for particle in particles:\n",
    "        acc = forces[count].scalar_divide(particle.mass)\n",
    "        old_pos = particle.position\n",
    "        old_vel = particle.velocity\n",
    "        vel_jump = old_pos + (old_vel.scalar_multiply(dt))\n",
    "        acc_jump = acc.scalar_multiply(0.5*dt**2) \n",
    "        particle.position = old_pos + vel_jump + acc_jump\n",
    "        "
   ]
  },
  {
   "cell_type": "code",
   "execution_count": 36,
   "metadata": {},
   "outputs": [],
   "source": [
    "def leapVelocity(particles: Particles, old_force, new_force, dt):\n",
    "    count = 0\n",
    "    for particle in particles:\n",
    "        mass = particle.mass\n",
    "        av_acc = (old_force[count] + new_force[count]).scalar_divide(2*mass)\n",
    "        new_vel = particle.velocity + av_acc.scalar_multiply(dt)\n",
    "        particle.velocity = new_vel\n",
    "    "
   ]
  },
  {
   "cell_type": "code",
   "execution_count": 41,
   "metadata": {},
   "outputs": [],
   "source": [
    "def orbit_runner(particles: Particles, dt, timesteps):\n",
    "    old_force = grav_force(particles)\n",
    "    for i in range(0, timesteps):\n",
    "        leapPositions(particles, old_force, dt)\n",
    "        new_force = grav_force(particles)\n",
    "        leapVelocity(particles, old_force, new_force, dt)\n",
    "        old_force = new_force"
   ]
  },
  {
   "cell_type": "code",
   "execution_count": 42,
   "metadata": {},
   "outputs": [],
   "source": [
    "orbit_runner(solar_system, 1, 100)"
   ]
  },
  {
   "cell_type": "code",
   "execution_count": 43,
   "metadata": {},
   "outputs": [
    {
     "data": {
      "text/plain": [
       "[Sun: pos: X: 3.675341185401611e+24 | Y: -2.498526992118024e+25 | Z: 0.0  vel: X: 2.9074396095774413e-06 | Y: -1.9686757182000535e-05 | Z: 0.0,\n",
       " Mercury: pos: X: 2.27384087810874e+31 | Y: 1.2944810181743112e+31 | Z: 0.0  vel: X: 17.599513375166115 | Y: 10.351760399512495 | Z: 0.0,\n",
       " Venus: pos: X: 2.4184898005574129e+30 | Y: 9.365672717515443e+30 | Z: 0.0  vel: X: 1.1881649405710832 | Y: 7.397671768696144 | Z: 0.0]"
      ]
     },
     "execution_count": 43,
     "metadata": {},
     "output_type": "execute_result"
    }
   ],
   "source": [
    "solar_system"
   ]
  },
  {
   "cell_type": "code",
   "execution_count": null,
   "metadata": {},
   "outputs": [],
   "source": []
  }
 ],
 "metadata": {
  "kernelspec": {
   "display_name": "Python 3",
   "language": "python",
   "name": "python3"
  },
  "language_info": {
   "codemirror_mode": {
    "name": "ipython",
    "version": 3
   },
   "file_extension": ".py",
   "mimetype": "text/x-python",
   "name": "python",
   "nbconvert_exporter": "python",
   "pygments_lexer": "ipython3",
   "version": "3.7.3"
  }
 },
 "nbformat": 4,
 "nbformat_minor": 2
}
